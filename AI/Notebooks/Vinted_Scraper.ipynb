{
 "cells": [
  {
   "cell_type": "code",
   "execution_count": 5,
   "id": "1cc568a9",
   "metadata": {},
   "outputs": [],
   "source": [
    "import requests\n",
    "\n",
    "def download(page):\n",
    "    #url = f\"https://www.vinted.com/api/v2/items?catalog_ids=&color_ids=&brand_ids=&size_ids=&material_ids=&status_ids=&is_for_swap=0&page={page}&per_page=24&time=1641490235&search_session_id=e6b70e96-8f6c-4349-8eeb-f0d228a4e1d4\"\n",
    "    url = f\"https://www.vinted.com/api/v2/catalog/items?search_text=&catalog_ids=&color_ids=&brand_ids=&size_ids=&material_ids=&status_ids=&is_for_swap=0&page={page}&per_page=24&time=1643635322&search_session_id=3aa85f09-6e87-4441-90a6-5297aaeff2e1\"\n",
    "    payload={}\n",
    "    \n",
    "    headers = {\n",
    "    'cookie': \"anon_id=45febd65-cd65-471c-b666-bb47b4dd6e92; G_ENABLED_IDPS=google; domain_selected=true; OptanonAlertBoxClosed=2022-01-04T20:42:50.847Z; v_sid=b888dcb7aa39bde27c2c32663a962bf5; eupubconsent-v2=CPSTuyqPSTuyqAcABBENCACgAAAAAAAAAChQAAAAAADhIAQANAF5ioAIC8xkAEBeY6AGADQAMwC8yEAEAMxKAEAGYBeZSAGADQAMwC8w.YAAAAAAAAAAA; __cf_bm=VJ9NaC2jp7ahBx76oyFLC6l61YM528wSDFYeQDb1hyk-1643644370-0-ATzmYlFH2yq0+LtE5uKz+8DHNvJ+EHV7K3N50oDBYuOGdpwz0k12GZILGg737p+FTaTpQLID9Y7kq9gjhpVMQZic3AhNR/AfWjgC2LNppirkYU3QVOJ9RnisSK6p8ueYrVrMmmOYO/C5/MyBbO6t36hBoKE5lJazUI8bYSYLpsLVNIHzHE2rjgxLbUzzunYSmw==; _vinted_fr_session=SWpwcmZ5YkFmYUZqQVR2bUgyeG1PRzZXb3RzMjdBUFhUNmZmY1R3cGl3Z050aC93azB5Tm85TlgzYWkwN1hWSmM0OXNQVnRIN0xBR0xWQVR4VEtRVnpxWUNSSlRyNFI4WUZUNXBkV3FhUHBSSU1mTWpLU2xIVEVNbXBVcUF6azFxQW1yUTdyMWhPTmc5ZnB6YWFLK2h5emhMNVlHWGdHc3NLYUJaL3pwcmh0TFRHaGF1WG1SUTN3dHpUOGRXd1ZKVnZmZUlpeHFZZktKK05wazNQRlRTa0g4SjQraWxTUW5WWmE1Vk1oeCswQ1RaYVhodnBsMVRyNGtQdUxDSTl5dmIxa2NYeWZiaTZ0SDQzcmUyWmxraE5zcU1vQTQ3MVFIb0M2aGt0NndicE83L0hjWDFnaERwcFRNUHZBamdXem9vbGVhbnlHK3hYR01DdTNsSFVEWG5FbndWWEk4Q2FybUNKMUxGTDNwdDMvMWc0OHJKMnROL1dZK2FnSWJEbkhwb0ZvbTVBZU4xVHJGTTF6KzZJOURrT2loRThDbzVEaTh2cThFRmJqWkpscHlxL1BIc09NRnN6eXN2OFptbzRUS0dYNTk3N3FCeHJXR1M2UkxIbjAycy9WTHl0TklKVVZKL1M1aW85TFl5bHdNNGVLamdJSVpiaVRXK0xsWVBldnA4ejJMemNaK1h2QVNzSmFPM0YvZThwNmE1NUJXdTJVa2xaMk1KZ2NLWmo4Z0RaL3dhQS9aa1VCZjNKTGtQRHd6TGZkMEJqZFBRSk1rK0pMYldNNndPcDd6ZVpVQzZlc2RPOUFKQWliM0U5MzVyMmpJNTk5OXNJZEJUU0xxcVp4K2UzZEJIQ1hVUFNPaEFxbk54SGlKWEtnM3lrdGxscWxKbDFobGN5cVZtMTQ4ek0rWXhrMkpWeHJhSVg0VFZSak5yVnNXYmVXdzdBd0hjZEFwZEk3eGhDenpqUzBrdU5GUVFNcC8ydnBxVDhUWXJxek5LKytlRGNtRUdiSEVIdnBOVHVpY0h5K0VzZmpzcUJyaTlrcFhLV2JpSmNnVS9oUHBDd2lxejhOTlJGd0ZMSzM2TEpyZk9HWTc1NHQyOGlFOVl1Y3dDcktWb2Q2bndzUEw0SW5XVVNmRUdVMGlQQldCSm4xc2lIZHpaMGIvSVFkZmlXdFd0S2l3N1lPT29JRWVPaW5McktZUllPM1VlV2JKV0lpTEdSSkFkYVl1RUxpYitBOW1TTE1IbGM1ZHM2MGVSKzYyYTJrejdkMUlmb0JvSXR3WnY3SlljQnczeHpjMk5MdGxOMkhNeDdseDFXWGh5U09zdk03b2pab01FdnpSRVdNMFJoQkUvQjZDUkU5SkY0SkFZTHRTL0U4UGMxY0J3N1VUSWNZOVZEaXNod3c2dklOVjJrb3Z4enNNYUJDT3VGTjk1UVBtRjdxNzk3RnQ2M28rcmVVa1Jxdkh3QVdEbW9TZ2NxRHRoMmw0M0xzOFp6ZDZES0s2a21zPS0tN2xqN2tySG8wRXY5V0VJVHk0Tyt3QT09--4a445cd3bf9aa45cd4df049c8bc37d903927de15; OptanonConsent=isGpcEnabled=0&datestamp=Mon+Jan+31+2022+16%3A52%3A58+GMT%2B0100+(Mitteleurop%C3%A4ische+Normalzeit)&version=6.25.0&isIABGlobal=false&hosts=&consentId=bae45fb5-d503-46c8-b18a-75c95595f191&interactionCount=2&landingPath=NotLandingPage&groups=C0001%3A1%2CC0002%3A0%2CC0003%3A0%2CC0004%3A0%2CSTACK42%3A0&AwaitingReconsent=false&geolocation=DE%3BBE; _dd_s=rum=0&expire=1643645294152\",\n",
    "    'authority': \"www.vinted.com\",\n",
    "    'sec-ch-ua': '\" Not;A Brand\";v=\"99\", \"Google Chrome\";v=\"97\", \"Chromium\";v=\"97\"',\n",
    "    'accept': \"application/json, text/plain, */*\",\n",
    "    'x-csrf-token': \"eGh0ip4sL_hulimsWWbNco8uwkKyhLhEIMLLyd92Ufh1cdk17wwYlWqc3e4VVW-No32vhYGOxfONtoaWD8jSvg\",\n",
    "    'accept-language': \"en-us-fr\",\n",
    "    'sec-ch-ua-mobile': \"?0\",\n",
    "    'user-agent': \"Mozilla/5.0 (Macintosh; Intel Mac OS X 10_15_7) AppleWebKit/537.36 (KHTML, like Gecko) Chrome/97.0.4692.71 Safari/537.36\",\n",
    "    'sec-ch-ua-platform': '\"macOS\"',\n",
    "    'sec-fetch-site': \"same-origin\",\n",
    "    'sec-fetch-mode': \"cors\",\n",
    "    'sec-fetch-dest': \"empty\",\n",
    "    'referer': \"https://www.vinted.com/vetements?search_text=&time=1643644371&page=2\"\n",
    "    }\n",
    "\n",
    "\n",
    "    \n",
    "    '''\n",
    "    headers = {\n",
    "    'authority': 'www.vinted.com',\n",
    "    'pragma': 'no-cache',\n",
    "    'cache-control': 'no-cache',\n",
    "    'sec-ch-ua': '\" Not A;Brand\";v=\"99\", \"Chromium\";v=\"96\", \"Google Chrome\";v=\"96\"',\n",
    "    'accept': 'application/json, text/plain, */*',\n",
    "    'x-csrf-token': 'NM6HS8NG7Et4VgYLQa7aZR6mlJlm4lAYbxFVVE7Sgvogyo4O2zFQcxrk4lrCnAWYQJJ6QMHeczcfgSpJVxfXXA',\n",
    "    'accept-language': 'en-us-fr',\n",
    "    'sec-ch-ua-mobile': '?0',\n",
    "    'user-agent': 'Mozilla/5.0 (Macintosh; Intel Mac OS X 10_15_7) AppleWebKit/537.36 (KHTML, like Gecko) Chrome/96.0.4664.110 Safari/537.36',\n",
    "    'sec-ch-ua-platform': '\"macOS\"',\n",
    "    'sec-fetch-site': 'same-origin',\n",
    "    'sec-fetch-mode': 'cors',\n",
    "    'sec-fetch-dest': 'empty',\n",
    "    'referer': 'https://www.vinted.com/vetements?time=1641490235&page=3',\n",
    "    'cookie': 'anon_id=a1d0f7d1-a98d-4a37-ab62-b4dc8053d8b3; domain_selected=true; G_ENABLED_IDPS=google; v_sid=48c66de9babe2220c80db6dd8ebc1961; OptanonAlertBoxClosed=2022-01-24T17:24:23.262Z; __cf_bm=6Gb.Aq8PTOEjB3HgBM0QxZezpCijz0XVDz._OWiC6Xc-1643627338-0-AYyspJFhULi66b1qE9p06h21fwNkVZdSH9qFHse75oQGg0K+ofMcNbC1jANjQu7I3Lh2mQSTtssFGl/w7DHQCUQ=; eupubconsent-v2=CPTVMeYPTVMeYAcABBENCACgAAAAAAAAAChQIXtf_X__b3_j-_59f_t0eY1P9_7_v-0zjhfdt-8N2f_X_L8X42M7vF36pq4KuR4Eu3LBIQVlHOHcTUmw6okVrzPsbk2cr7NKJ7PEmnMbO2dYGH9_n93TuZKY7______z_v-v_v____f_7-3_3__5_3---_e_V_99zLv9____39nP___9v-_8CAAAAcJACABoAvMVABAXmMgAgLzHQAwAaABmAXmQgAgBmJQAgAzALzKQAwAaABmAXmAA.YAAAAAAAAAAA; _vinted_fr_session=WDVvQU5lOVBrdVhpNEhid25BQVVnQVhsVU1RdlJ4MElUeEdmSnE5c0dRTG5Nc3I2WUhrTFZHZVIyaDM3M2lnMjBiYXcvTjRrRzU1SkthVTFhRmhQMDRNeDluY2U2MEZoL1JUR0hHMHhyR3NtL240MUV4TnpLUEg5Z2puQkJydnhDajJLM285c1plVm84OHdlUlVRZDE4bHgycEg2anBlYlZaeU1JZ3RxOThPeHVmN3dOSDBwQTZOOGwxamVvU2dZcWh3YUoweDFDYmdmbEI0blgybjNZMnp2bHA5TWJCNEt1TDcrbzlzT2luQmF5MStkYzFjRVkzS1k3anNTcGQ2N2Q1bkJITkJLaTJXV2NzQkxCM0lMb3laSXJ5eWdRVURGQlV6cnRGRFlKeVhKRmJ5R2pYWVMzWTdPNXhYL1NnWWVhL0ZBSFV5MXp5YVcreHkzdXFkMG13YThiTzJvVEk4emZSWnVoUmdwZnBBbHBBc2VxSkVBU05vSUVPeDY3SnNtayt4Z0dkWWdUS1ZnWmhSU3BSS3pzUm8xMERIbndyNUoydUY5NWMzcFVWK05XaStOY0hENmFCWmJXWjNsMmhoaXJtVzRpdk5PU2dEZU9nWll2QjU2U2JKZ3FDZTJHQ3FwWDVGK01McEc1SFpweDZ3ZS9zenJSbG9vR1d6SmtudHdWZDRqaC96QlRSdnN2RWtzUERZRHc5WnVmWUlsem9lekpxOC9rOXJlOVZ2ZTRFdGRWZDI2aVlHYWRYTmZ6M2hrdUsxSVRNVDBnR0ZZMVY5ck12UEpLMUhMMGxpVVpXaEJVYzQzSGZ3OHM1SUxGRXZtdnhDSE51UnNIdUZZcU5SanY3Q2VIM21hQ1RpQjBPSlFKUGZJcXpQN0c0dW1PZ3k1QmMySFRodFZ0amJ3Ryt4NG1JWlpVUitxc0llcjBydDhHT1VqY2lLK1FqQlkrQTJ5UTROYXNUY0xwZjlyMkVtRjJOUnFEUlpteWRNOFhYZHVGNXhadVpFZHZPaURlYzNhemQ0UVpwTmdUbUJsVEpNSGxxdnJXNjN3aHd4djVCZ3R5c1g0MFllczVnY1Q3SVovSnZ5MHlQN1lvNFdyL1h5YWFwZk1ZeTNnNWpDSnQ2SGRVZlJBb0FFZ3huWktBcktOUW5ZMXpsS0R4cm03TWlzUWVVYStKQmdZcW0rTXo1THlZTU1HTFl6QXBwRlN2MVZCUkd2VHdYdVFFYXhuZlA0VlJnemgzMnd1SER1N1JSZ2FaM2F3THJ1RHZndUdZMDl1a2F1Y1c0SnFJenQwcGI1MVZQeHBJSUVhSWNWREJjbnRCY2pOdVRhcldiaXRUYVZRU0JzR0U1ZjNBUTRZaTNZa3ZLTU5YYzZqR2srYjBEQVhobXcycVJxa0plM2dMMGR1ckhqUUJ6NWw5eDRDQXZCTm55UUdyQmpMT2o0aFd1bXI2c3Z6V2tTVVhZbWl6VHk0ZjZiWEo1UTQ3NGNHV2JKcWdwUW51SHJBOWZNPS0tdFg0OGtNeGVWY3VVTDBRSlU0VUhVZz09--8ddf3bc5494eec27e6265678f0395c3047bd8a6b; OptanonConsent=isGpcEnabled=1&datestamp=Mon+Jan+31+2022+12%3A15%3A11+GMT%2B0100+(Mitteleurop%C3%A4ische+Normalzeit)&version=6.25.0&isIABGlobal=false&hosts=&consentId=5f98b3ca-3040-4d26-9de7-c18c29550c2a&interactionCount=2&landingPath=NotLandingPage&groups=C0001%3A1%2CC0002%3A0%2CC0003%3A0%2CC0004%3A0%2CSTACK42%3A0&AwaitingReconsent=false&geolocation=DE%3BHE'\n",
    "    }'''\n",
    "\n",
    "    response = requests.request(\"GET\", url, headers=headers, data=payload)\n",
    "\n",
    "    with open(f'/Users/lukasbauerschmidt/Desktop/TechLab/3. Project/3. Code/wt21-fash-un-capsule-wardrobe/AI/out3/{page}.json', 'w') as f:\n",
    "        f.write(response.text)    \n",
    "\n",
    "def main():\n",
    "    for i in range(1, 123):\n",
    "        download(i)\n",
    "\n",
    "if __name__ == \"__main__\":\n",
    "    main()"
   ]
  }
 ],
 "metadata": {
  "kernelspec": {
   "display_name": "Python 3 (ipykernel)",
   "language": "python",
   "name": "python3"
  },
  "language_info": {
   "codemirror_mode": {
    "name": "ipython",
    "version": 3
   },
   "file_extension": ".py",
   "mimetype": "text/x-python",
   "name": "python",
   "nbconvert_exporter": "python",
   "pygments_lexer": "ipython3",
   "version": "3.9.7"
  }
 },
 "nbformat": 4,
 "nbformat_minor": 5
}
