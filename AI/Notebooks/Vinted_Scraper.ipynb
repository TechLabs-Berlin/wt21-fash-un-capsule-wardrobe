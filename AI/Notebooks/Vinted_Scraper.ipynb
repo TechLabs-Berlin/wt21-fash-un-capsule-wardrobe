{
 "cells": [
  {
   "cell_type": "code",
   "execution_count": 6,
   "id": "1cc568a9",
   "metadata": {},
   "outputs": [],
   "source": [
    "import requests\n",
    "\n",
    "def download(page):\n",
    "    #url = f\"https://www.vinted.com/api/v2/items?catalog_ids=&color_ids=&brand_ids=&size_ids=&material_ids=&status_ids=&is_for_swap=0&page={page}&per_page=24&time=1641490235&search_session_id=e6b70e96-8f6c-4349-8eeb-f0d228a4e1d4\"\n",
    "    url = f\"https://www.vinted.com/api/v2/catalog/items?search_text=&catalog_ids=&color_ids=&brand_ids=&size_ids=&material_ids=&status_ids=&is_for_swap=0&page={page}&per_page=24&time=1643635322&search_session_id=3aa85f09-6e87-4441-90a6-5297aaeff2e1\"\n",
    "    payload={}\n",
    "    \n",
    "    headers = {\n",
    "    'cookie': \"anon_id=45febd65-cd65-471c-b666-bb47b4dd6e92; G_ENABLED_IDPS=google; domain_selected=true; OptanonAlertBoxClosed=2022-01-04T20:42:50.847Z; v_sid=b888dcb7aa39bde27c2c32663a962bf5; eupubconsent-v2=CPSTuyqPSTuyqAcABBENCACgAAAAAAAAAChQAAAAAADhIAQANAF5ioAIC8xkAEBeY6AGADQAMwC8yEAEAMxKAEAGYBeZSAGADQAMwC8w.YAAAAAAAAAAA; __cf_bm=VJ9NaC2jp7ahBx76oyFLC6l61YM528wSDFYeQDb1hyk-1643644370-0-ATzmYlFH2yq0+LtE5uKz+8DHNvJ+EHV7K3N50oDBYuOGdpwz0k12GZILGg737p+FTaTpQLID9Y7kq9gjhpVMQZic3AhNR/AfWjgC2LNppirkYU3QVOJ9RnisSK6p8ueYrVrMmmOYO/C5/MyBbO6t36hBoKE5lJazUI8bYSYLpsLVNIHzHE2rjgxLbUzzunYSmw==; _vinted_fr_session=SWpwcmZ5YkFmYUZqQVR2bUgyeG1PRzZXb3RzMjdBUFhUNmZmY1R3cGl3Z050aC93azB5Tm85TlgzYWkwN1hWSmM0OXNQVnRIN0xBR0xWQVR4VEtRVnpxWUNSSlRyNFI4WUZUNXBkV3FhUHBSSU1mTWpLU2xIVEVNbXBVcUF6azFxQW1yUTdyMWhPTmc5ZnB6YWFLK2h5emhMNVlHWGdHc3NLYUJaL3pwcmh0TFRHaGF1WG1SUTN3dHpUOGRXd1ZKVnZmZUlpeHFZZktKK05wazNQRlRTa0g4SjQraWxTUW5WWmE1Vk1oeCswQ1RaYVhodnBsMVRyNGtQdUxDSTl5dmIxa2NYeWZiaTZ0SDQzcmUyWmxraE5zcU1vQTQ3MVFIb0M2aGt0NndicE83L0hjWDFnaERwcFRNUHZBamdXem9vbGVhbnlHK3hYR01DdTNsSFVEWG5FbndWWEk4Q2FybUNKMUxGTDNwdDMvMWc0OHJKMnROL1dZK2FnSWJEbkhwb0ZvbTVBZU4xVHJGTTF6KzZJOURrT2loRThDbzVEaTh2cThFRmJqWkpscHlxL1BIc09NRnN6eXN2OFptbzRUS0dYNTk3N3FCeHJXR1M2UkxIbjAycy9WTHl0TklKVVZKL1M1aW85TFl5bHdNNGVLamdJSVpiaVRXK0xsWVBldnA4ejJMemNaK1h2QVNzSmFPM0YvZThwNmE1NUJXdTJVa2xaMk1KZ2NLWmo4Z0RaL3dhQS9aa1VCZjNKTGtQRHd6TGZkMEJqZFBRSk1rK0pMYldNNndPcDd6ZVpVQzZlc2RPOUFKQWliM0U5MzVyMmpJNTk5OXNJZEJUU0xxcVp4K2UzZEJIQ1hVUFNPaEFxbk54SGlKWEtnM3lrdGxscWxKbDFobGN5cVZtMTQ4ek0rWXhrMkpWeHJhSVg0VFZSak5yVnNXYmVXdzdBd0hjZEFwZEk3eGhDenpqUzBrdU5GUVFNcC8ydnBxVDhUWXJxek5LKytlRGNtRUdiSEVIdnBOVHVpY0h5K0VzZmpzcUJyaTlrcFhLV2JpSmNnVS9oUHBDd2lxejhOTlJGd0ZMSzM2TEpyZk9HWTc1NHQyOGlFOVl1Y3dDcktWb2Q2bndzUEw0SW5XVVNmRUdVMGlQQldCSm4xc2lIZHpaMGIvSVFkZmlXdFd0S2l3N1lPT29JRWVPaW5McktZUllPM1VlV2JKV0lpTEdSSkFkYVl1RUxpYitBOW1TTE1IbGM1ZHM2MGVSKzYyYTJrejdkMUlmb0JvSXR3WnY3SlljQnczeHpjMk5MdGxOMkhNeDdseDFXWGh5U09zdk03b2pab01FdnpSRVdNMFJoQkUvQjZDUkU5SkY0SkFZTHRTL0U4UGMxY0J3N1VUSWNZOVZEaXNod3c2dklOVjJrb3Z4enNNYUJDT3VGTjk1UVBtRjdxNzk3RnQ2M28rcmVVa1Jxdkh3QVdEbW9TZ2NxRHRoMmw0M0xzOFp6ZDZES0s2a21zPS0tN2xqN2tySG8wRXY5V0VJVHk0Tyt3QT09--4a445cd3bf9aa45cd4df049c8bc37d903927de15; OptanonConsent=isGpcEnabled=0&datestamp=Mon+Jan+31+2022+16%3A52%3A58+GMT%2B0100+(Mitteleurop%C3%A4ische+Normalzeit)&version=6.25.0&isIABGlobal=false&hosts=&consentId=bae45fb5-d503-46c8-b18a-75c95595f191&interactionCount=2&landingPath=NotLandingPage&groups=C0001%3A1%2CC0002%3A0%2CC0003%3A0%2CC0004%3A0%2CSTACK42%3A0&AwaitingReconsent=false&geolocation=DE%3BBE; _dd_s=rum=0&expire=1643645294152\",\n",
    "    'authority': \"www.vinted.com\",\n",
    "    'sec-ch-ua': '\" Not;A Brand\";v=\"99\", \"Google Chrome\";v=\"97\", \"Chromium\";v=\"97\"',\n",
    "    'accept': \"application/json, text/plain, */*\",\n",
    "    'x-csrf-token': \"eGh0ip4sL_hulimsWWbNco8uwkKyhLhEIMLLyd92Ufh1cdk17wwYlWqc3e4VVW-No32vhYGOxfONtoaWD8jSvg\",\n",
    "    'accept-language': \"en-us-fr\",\n",
    "    'sec-ch-ua-mobile': \"?0\",\n",
    "    'user-agent': \"Mozilla/5.0 (Macintosh; Intel Mac OS X 10_15_7) AppleWebKit/537.36 (KHTML, like Gecko) Chrome/97.0.4692.71 Safari/537.36\",\n",
    "    'sec-ch-ua-platform': '\"macOS\"',\n",
    "    'sec-fetch-site': \"same-origin\",\n",
    "    'sec-fetch-mode': \"cors\",\n",
    "    'sec-fetch-dest': \"empty\",\n",
    "    'referer': \"https://www.vinted.com/vetements?search_text=&time=1643644371&page=2\"\n",
    "    }\n",
    "\n",
    "    response = requests.request(\"GET\", url, headers=headers, data=payload)\n",
    "\n",
    "    with open(f'/Users/lukasbauerschmidt/Desktop/TechLab/3. Project/3. Code/wt21-fash-un-capsule-wardrobe/AI/out4/{page}.json', 'w') as f:\n",
    "        f.write(response.text)    \n",
    "\n",
    "def main():\n",
    "    for i in range(1, 123):\n",
    "        download(i)\n",
    "\n",
    "if __name__ == \"__main__\":\n",
    "    main()"
   ]
  }
 ],
 "metadata": {
  "kernelspec": {
   "display_name": "Python 3 (ipykernel)",
   "language": "python",
   "name": "python3"
  },
  "language_info": {
   "codemirror_mode": {
    "name": "ipython",
    "version": 3
   },
   "file_extension": ".py",
   "mimetype": "text/x-python",
   "name": "python",
   "nbconvert_exporter": "python",
   "pygments_lexer": "ipython3",
   "version": "3.9.7"
  }
 },
 "nbformat": 4,
 "nbformat_minor": 5
}
