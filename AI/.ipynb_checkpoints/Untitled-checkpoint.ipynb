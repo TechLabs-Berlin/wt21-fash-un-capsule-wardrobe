{
 "cells": [
  {
   "cell_type": "code",
   "execution_count": 6,
   "id": "1cc568a9",
   "metadata": {},
   "outputs": [],
   "source": [
    "import requests\n",
    "\n",
    "def download(page):\n",
    "    url = f\"https://www.vinted.com/api/v2/items?catalog_ids=&color_ids=&brand_ids=&size_ids=&material_ids=&status_ids=&is_for_swap=0&page={page}&per_page=24&time=1641490235&search_session_id=e6b70e96-8f6c-4349-8eeb-f0d228a4e1d4\"\n",
    "\n",
    "    payload={}\n",
    "    headers = {\n",
    "    'authority': 'www.vinted.com',\n",
    "    'pragma': 'no-cache',\n",
    "    'cache-control': 'no-cache',\n",
    "    'sec-ch-ua': '\" Not A;Brand\";v=\"99\", \"Chromium\";v=\"96\", \"Google Chrome\";v=\"96\"',\n",
    "    'accept': 'application/json, text/plain, */*',\n",
    "    'x-csrf-token': 'NM6HS8NG7Et4VgYLQa7aZR6mlJlm4lAYbxFVVE7Sgvogyo4O2zFQcxrk4lrCnAWYQJJ6QMHeczcfgSpJVxfXXA',\n",
    "    'accept-language': 'en-us-fr',\n",
    "    'sec-ch-ua-mobile': '?0',\n",
    "    'user-agent': 'Mozilla/5.0 (Macintosh; Intel Mac OS X 10_15_7) AppleWebKit/537.36 (KHTML, like Gecko) Chrome/96.0.4664.110 Safari/537.36',\n",
    "    'sec-ch-ua-platform': '\"macOS\"',\n",
    "    'sec-fetch-site': 'same-origin',\n",
    "    'sec-fetch-mode': 'cors',\n",
    "    'sec-fetch-dest': 'empty',\n",
    "    'referer': 'https://www.vinted.com/vetements?time=1641490235&page=3',\n",
    "    'cookie': 'anon_id=9cb02665-aa7e-495f-b31d-b496547268ff; v_sid=b3a33083a2995308911fdd55ec1d020c; __cf_bm=XKcnxuyx9CQ2s6PLGscDwhcperXPBzN.WRmUHV9muWY-1641489863-0-AaKIzrhAa6O3lkuqKdgSWy9NsvW98BIi3MKPU0kALbpml6/g+Me/w5LygtfiRpDTAjlD9Z9DXllfZkDeOhHhHROlxBrdaP6/jEIubiAeT5WI; G_ENABLED_IDPS=google; domain_selected=true; OptanonAlertBoxClosed=2022-01-06T17:24:28.286Z; eupubconsent-v2=CPSZ3ndPSZ3ndAcABBENB8CsAP_AAAAAAChQIUNf_X__b3_j-_59f_t0eY1P9_7_v-0zjhfdt-8N2f_X_L8X42M7vF36pq4KuR4Eu3LBIQVlHOHcTUmw6okVrzPsbk2cr7NKJ7PEmnMbO2dYGH9_n93TuZKY7______z_v-v_v____f_7-3_3__5_3---_e_V_99zLv9____39nN___9v-_8AAAA4SAEADQBeYqACAvMZABAXmOgBgA0ADMAvMhABADMSgBABmAXmUgBgA0ADMAvMAAA.f_gAAAAAAAAA; _vinted_fr_session=QytyY0l1WnRlOEZod01iUGVLekovSERWUVhVM0o1RUxiQXArZlpYSktFWDF4eG9zVFBBekd0MTN1Y2hNWm4yN3J6a1ZXTCtDVFNFbU53a2tCM2sxVlRKM1BrT29RTDlvaTRHUnBXSUh5Q1VzQkJOT2pRVFFvbURpcFh5L25EWGlENEM1QVduYS9yNEcwQm9PM0JEN2pHU0NDSnlhVkZxb1RVMVlJMDNmamNIOTNFWTV6SEtwQlJVZFF4S1hDcERyaGhlWGVVaFZhSGxPaVVjdlFoTjFndTlMRDQrLzN1bW85TU5OZUhKbnY3OXJaVlZkcDM3S2lMMkVwS0Z3S0o4RzNMVHFiTnVUVGxzbG5JejFsM0Jqelh5ZUtPV2RzcWJhL1FkRkErUnROM0tnK3Y4cG1yV3FDRzVsVVJsU0l4ZkhtSFdHY0lseTJhNFdPWXo0Q0tSak11T1RwdTJRR21tbk03QTg3TmpialkwUGNIVEphS0JyZkp5VWlIZFBvQXowTlp1TVJoSm54VGROc2lZRjhwbnZsMU14RkNhbVZ1RFFMS1ZOclFkMGpIUE5tTnFNWW5HSHhmUEQra2I5WU00T1Rxb1M2TkZZK0VTZEwremR4cHB4NGQ2aHc4UnhwSzVkL0ZER2RpZXVMRWFMNTJZZ2pDU2p3Sm1ocTJUQVcydndQNGZBeGpyTWY5MjBSdVN4WmZOblVLQ1JDWSt1VXczVEdjd0c1cXJJRmRSZkhwUHQ4N2QvQ2hRbEM5MGN5bzYwbHc1L3JjdmdNZWlyN3FiajRtUFdRMDNrazd2cmhjUjRWOGw0cS9hRUowNk5qYkYvYUo4Nmx5UlBubm0vWHJJNUtuZ2t6WFNPd2F1SEtBdWtLaXhReWdwRDVOUDg1QUZ4eGovNTlnUlVSZGgvS2xiQVIxZlpKbUs0Q3ZMak9zNWFESHFTeDZVZEJ4cUhYS0ZTUkQ0K0xEaHZYelNzOGQ5NG5RNnI1REZ4RnBudFI5THdpMVN1bmxPNVcxNjArZVlxOW04Q1Q2RkVqYUJqQStGak5hWWhjNkZ3Zit4MWVVc25rOVZ1cS91UnJqQ2xDdnd6eUt2bXFZdWxsZEJHMHZQYWEwclFibVh6c1RPZVRxbk5IeWNHTnhMaDNNUTlWRlBmOElXcUYwTmNaaS9oYzRJUkxOekxhcWttb1l2MWhsSCtJOFpNT2ZxL3YrSVZhbGxsVUdvdXM4VytlZThhWVBlZDBmd2FaRUFTNE1rQTI0VlR0NFMvcVM2Mzlvc0JDNzliZnh3bG1HYkw4bHA1bjlONDlXVkw2d2dqU0RkWTV3UGlYdlpYbVp5YkpVaEVjZUFqZldZNitCeWY3L1ErSkVybGc2NkFXdDZESytCQWhZbnNYRUI1b2w1K3hLR3crRFJrUHhrR3hTUjhEcE0zd0FLZXBUYUlEYW5acjJ1bkV5NkRZVXdhY0pqNGdlRVpqTkdFVldGQkU3OHliamVJN1VhZmVVd3lQS1llcnNRPS0tOVZPaXczZE0wemNtcE04M0d2R0ZHdz09--1aafa586ee51484e31f0839b92113a871013c668; OptanonConsent=isGpcEnabled=0&datestamp=Thu+Jan+06+2022+18%3A31%3A19+GMT%2B0100+(Central+European+Standard+Time)&version=6.25.0&isIABGlobal=false&hosts=&consentId=ace049a1-1276-40fa-8dd9-eb06d82aaad0&interactionCount=1&landingPath=NotLandingPage&groups=C0001%3A1%2CC0002%3A1%2CC0003%3A1%2CC0004%3A1%2CSTACK42%3A1&geolocation=DE%3BBE&AwaitingReconsent=false; __cf_bm=VSFQjh_fJDBnuzSMxIXLOorEA_L2aTUQFHThylIOQjU-1641490798-0-AZ7MvELVOlQmrO9SeXdL+NYUIWolshm2aol4GYekz26AiaypuZOWL9byuRJPcSffjf8UaLFc8F73wM/iBwK3N/R/QIGqn82SSYifYSrvv5gq; _vinted_fr_session=WmhBenAyYVZscDB6Smgyc2xFM0w4MkpkWkF6R2RkM1VaV1laS3ZUbE9YRllBMlU3M2hKTW1CM2ZRb1JNL2hieEd6N1dDRFcvckFzTlF6L29uclRmdTBick5kMjZYekNNMDNTekNLcHROYkJQa3B1T01EOWwvTWovSE1sa0F1K3pEYlV1bUJNVC92SjVSWmNMMzE0eU43WDdMeHNGdlRUZzJCdTFoYXpFZ21kUUlVTnBZaXRnSmxXRjg1TzRuTnFpM3pseDE1NmVqcFpzMk0wTGpyeWZNdXRXM2hCa3R4K1lHWXFBMGErejR0K2hESk5OUzFsL3dReHA5SlE5SkVyVmFZQkcrWTB6YjQ0cU5UUjhnNjdsZURybGtSREhmSWxLcWc5akFYdzF5ZG5rc1RraGJhdU4zMWo3bklpNkEycFBySEQyRjlVVE5YMkNwMjE2U0FPN3Z5RkdxTVNNWWUva1JDbExCOTRicVJzU2c2cnplNGMwOTFEdUJhSGNDWVRVV1pnWXVJWTdLNEFBRW0zK2ZSOU9mWVg0UEdvNGpTNFY4MEV2aVhvalkvVkFNQnhCNkRKbkh3U09ZQklrWjl2M09lVXo5MkovOWZGSkp6VkRFVFFCZ01rMExhMnFTaVVUWHFQT1NnWUM3S3dpTGw4anV1Z2lqNjJVZjNLaXpsNmRiOWlPZWxBcnlPR2JQeWNSRnByNlBxWWhiM0x5MVZJVkN4Q1hXUENDaVVvdU1nQUxiUjRPWGpkUEdFME5vdDZSeHpMVXMvTmt1LzNuVmhXVisvWWdhZEhIeStpd0VwRXkzSHVZZHFKN2ZSUnhtbFppam5TcWdKTnAxNUZCV0I1N2dNQ1l4cnUzZk9lRFZKYjZFMjV3V0hUSkxPd3c1R3lpMDYrMmtQV1ZHV0VEVjdkSnowZnNXekEycjVpdE16UURYTGdoRk9zcWFYaFgwUWRUUzFNcTdLcS85eW4vZDc0VXc4K3FEUkdrck02anJMUjhqV0J4YmZXUGg2aktDdUhGRUs4S3F1T0taNHZIbFVwZElpQWd3SnF5ODZwUFRRdHF6RGNXdTlGS3dSMlFsYnorM0lWQXQ0RWJtMkVlMEhGT2NWWmxxV2RobWRUb21rZWhSYkpidXhuQ1cwZHlVMGZFMHlQeEpoeU9qeG0xWGNTSmpNMkZ4a3JNMUorSHZlZTdXeUwvYlVIOE9qNHdWMHFCZ0ZlOXNpK05NNEhyWkRWb2FNaGZMaVd3N1pSVnpWUkMzNGdnR3lrVHF5WExPRWFtNmNnWjF0K0QxcDlDTTlqSnU3ZkdFWGFKMUw0eU5WME1zUDFlRFA4aW1EVVpXcHd5bTgrbDF2NnBjMVBkOVJ3MHZLTGhISG10M2UxRWhUWk1NVWlHTFdCTnFVaDVmSkdYRlFCUkxzVHRYMFRIOVV3TmI3TnZMeHpWcHVoeDlyZ0ptOFJsaW1VWTE0NDRVdHpEZ1I1NXNEdmlUSCtxT2pQVlJLZ0Y1N2Y1SlowPS0tbVJlM0pzVzdkRWpMMFFIM2lnZnJvdz09--990d0f98a057d14f4906c35818176db3d9242c77'\n",
    "    }\n",
    "\n",
    "    response = requests.request(\"GET\", url, headers=headers, data=payload)\n",
    "\n",
    "    with open(f'/Users/lukasbauerschmidt/Desktop/TechLab/7. Vinted data/out4/{page}.json', 'w') as f:\n",
    "        f.write(response.text)    \n",
    "\n",
    "def main():\n",
    "    for i in range(1, 123):\n",
    "        download(i)\n",
    "\n",
    "if __name__ == \"__main__\":\n",
    "    main()"
   ]
  }
 ],
 "metadata": {
  "kernelspec": {
   "display_name": "Python 3 (ipykernel)",
   "language": "python",
   "name": "python3"
  },
  "language_info": {
   "codemirror_mode": {
    "name": "ipython",
    "version": 3
   },
   "file_extension": ".py",
   "mimetype": "text/x-python",
   "name": "python",
   "nbconvert_exporter": "python",
   "pygments_lexer": "ipython3",
   "version": "3.9.7"
  }
 },
 "nbformat": 4,
 "nbformat_minor": 5
}
